{
  "cells": [
    {
      "cell_type": "code",
      "execution_count": null,
      "metadata": {
        "id": "BJLjqtyOwbsC"
      },
      "outputs": [],
      "source": [
        "!pip install easyocr\n",
        "!pip install opencv-python-headless==4.1.2.30\n"
      ]
    },
    {
      "cell_type": "code",
      "source": [
        "#!pip install easyocr\n",
        "#!pip install opencv-python-headless==4.1.2.30\n",
        "import cv2\n",
        "import numpy as np\n",
        "import re\n",
        "import easyocr\n",
        "\n",
        "\n",
        "class LC_OCR():\n",
        "\n",
        "  def __init__(self,img_path):\n",
        "    self.img_path = img_path\n",
        "    self.reader = easyocr.Reader(['en'])\n",
        "    print(\"Object created\")\n",
        "\n",
        "\n",
        "  def clean_text(self,text):\n",
        "    sname = None\n",
        "    text1 = []\n",
        "    lines = text.split(',')\n",
        "    for lin in lines:\n",
        "      s = lin.strip()\n",
        "      s = lin.replace('\\n','')\n",
        "      s = s.rstrip()\n",
        "      s = s.lstrip()\n",
        "      text1.append(s)\n",
        "    lineno = 0\n",
        "    print(\"length of string:\",len(text1))\n",
        "    for wordline in text1:\n",
        "      xx = wordline.split(' ')\n",
        "      if ([w for w in xx if re.search('(SCHOOL|SCH00L|GURUKUL|VIDHYALAYA|NIKETAN|VIDHYA|VIHAR|BHAVAN|MANDIR|PATHSHALA|SHALA)$', w.upper())]):\n",
        "        if ([w for w in xx if re.search('(ID|LEAVING|CERTI|CERTIFICATE)$', w.upper())]):\n",
        "          continue\n",
        "        else:\n",
        "          text1 = list(text1)\n",
        "          lineno = text1.index(wordline)\n",
        "          break\n",
        "\n",
        "    sname = text1[lineno]\n",
        "    print(\"Detected Name\",sname)\n",
        "    try:\n",
        "  # Cleaning first names\n",
        "        sname = sname.rstrip()\n",
        "        sname = sname.lstrip()\n",
        "        sname = sname.replace(\"8\", \"B\")\n",
        "        sname = sname.replace(\"0\", \"D\")\n",
        "        sname = sname.replace(\"6\", \"G\")\n",
        "        sname = sname.replace(\"1\", \"I\")\n",
        "\n",
        "\n",
        "    except:\n",
        "            pass\n",
        "\n",
        "    return sname\n",
        "\n",
        "  def get_detail(self):\n",
        "    detection_result = self.reader.detect(self.img_path,\n",
        "                              width_ths=0.7, \n",
        "                              mag_ratio=1.5\n",
        "                              )\n",
        "    text_coordinates = detection_result[0][0]\n",
        "    recognition_results = self.reader.recognize(self.img_path,\n",
        "                                 horizontal_list=text_coordinates,\n",
        "                                 free_list=[]\n",
        "                                 )\n",
        "    detected_text = [txt[1] for txt in recognition_results]\n",
        "    detected_text = \",\".join(detected_text)\n",
        "    print(\"Detected Text:\",detected_text)\n",
        "    return self.clean_text(detected_text) \n",
        "\n",
        "\n"
      ],
      "metadata": {
        "id": "xV_EF2tQ9Dal"
      },
      "execution_count": 62,
      "outputs": []
    },
    {
      "cell_type": "code",
      "source": [
        "img_path = \"/content/LC6.jpg\"\n",
        "LC = LC_OCR(img_path)\n",
        "LC.get_detail()"
      ],
      "metadata": {
        "colab": {
          "base_uri": "https://localhost:8080/",
          "height": 144
        },
        "id": "eODiwQNN8G3Q",
        "outputId": "679dcb5b-9786-42f1-dfa9-789777f475db"
      },
      "execution_count": 67,
      "outputs": [
        {
          "output_type": "stream",
          "name": "stderr",
          "text": [
            "CUDA not available - defaulting to CPU. Note: This module is much faster with a GPU.\n"
          ]
        },
        {
          "output_type": "stream",
          "name": "stdout",
          "text": [
            "Object created\n",
            "Detected Text: ANAND NIKETAN SUGHAD,Airport Gandhin;g#r Road - Rjisthan Hospital Circle; SF Ring Rojd, B/h; Sandlesh Farm;,Sughad Village, Gandhinagar 382+24. Mohile : -91 97370 47555,Email ; ansughad@anandndketanOrg   Website; WWWanandniketansughad org,Affiliated to CBSE,Alfiliation No.,430335,School Code,13299 DISE No: : 240602M4105,SCHOOL LEAVING CERTIFICATE,G.RNo.,Sr: No.,005,1. Name of the pupil,1,DCsA,2 . Father's / Guardian s Name,dilipfumar,3. Mother s Name,2 L,Religion & Caste,HJoU,,Place of birth,NE,A0,6. Date of birth,J00|,according t0 Christian Era,in word and figures,a8 per GR,Tweuty First Dec; To 7hol,Previous School attended,ANAro,Nketa ',suka0,8. Date of admission,3017,9.Grade admitted to,( Jine ),10. Conduct,ducoo,11. Grade studying in & since when,12. Date of leaving school,45 08 Q0i 8,13. Promoted,Detained,14. Reason for,leaving the Sehool,ChA!,Auoiuee,Boaro,I5. Total no.of,days,MO,16.No. of,present,17. Child UID No.,18. Remarks,Certified that the above information is in accordance with the school general record,Jitu,Class Teacher,(A,Date :,15,08 *015,Cheeked By,Prineipal\n",
            "length of string: 70\n",
            "Detected Name ANAND NIKETAN SUGHAD\n"
          ]
        },
        {
          "output_type": "execute_result",
          "data": {
            "text/plain": [
              "'ANAND NIKETAN SUGHAD'"
            ],
            "application/vnd.google.colaboratory.intrinsic+json": {
              "type": "string"
            }
          },
          "metadata": {},
          "execution_count": 67
        }
      ]
    },
    {
      "cell_type": "code",
      "source": [
        ""
      ],
      "metadata": {
        "id": "dpWEQnEj8oPT"
      },
      "execution_count": null,
      "outputs": []
    }
  ],
  "metadata": {
    "colab": {
      "name": "Leaving_Certificate.ipynb",
      "provenance": [],
      "collapsed_sections": []
    },
    "kernelspec": {
      "display_name": "Python 3",
      "name": "python3"
    },
    "language_info": {
      "name": "python"
    }
  },
  "nbformat": 4,
  "nbformat_minor": 0
}